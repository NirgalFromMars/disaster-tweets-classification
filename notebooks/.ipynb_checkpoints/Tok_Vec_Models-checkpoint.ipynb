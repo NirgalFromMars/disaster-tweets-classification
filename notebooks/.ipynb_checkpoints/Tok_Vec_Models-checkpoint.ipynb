{
 "cells": [
  {
   "cell_type": "markdown",
   "id": "8ba42d44-f577-4b1f-83d4-3eb2a3d5a117",
   "metadata": {},
   "source": [
    "### Import data from postgres database on instance RDS (AWS)"
   ]
  },
  {
   "cell_type": "code",
   "execution_count": 28,
   "id": "17709fcb-b346-4314-b41d-dbfb1bdf5e27",
   "metadata": {},
   "outputs": [
    {
     "data": {
      "text/html": [
       "<div>\n",
       "<style scoped>\n",
       "    .dataframe tbody tr th:only-of-type {\n",
       "        vertical-align: middle;\n",
       "    }\n",
       "\n",
       "    .dataframe tbody tr th {\n",
       "        vertical-align: top;\n",
       "    }\n",
       "\n",
       "    .dataframe thead th {\n",
       "        text-align: right;\n",
       "    }\n",
       "</style>\n",
       "<table border=\"1\" class=\"dataframe\">\n",
       "  <thead>\n",
       "    <tr style=\"text-align: right;\">\n",
       "      <th></th>\n",
       "      <th>id</th>\n",
       "      <th>keyword</th>\n",
       "      <th>location</th>\n",
       "      <th>text</th>\n",
       "      <th>target</th>\n",
       "      <th>text_clean</th>\n",
       "      <th>text_len</th>\n",
       "      <th>word_count</th>\n",
       "      <th>text_lemmatized</th>\n",
       "      <th>keyword_clean</th>\n",
       "      <th>keyword_encoded</th>\n",
       "      <th>location_clean</th>\n",
       "    </tr>\n",
       "  </thead>\n",
       "  <tbody>\n",
       "    <tr>\n",
       "      <th>0</th>\n",
       "      <td>1</td>\n",
       "      <td>no_keyword</td>\n",
       "      <td>unknown</td>\n",
       "      <td>Our Deeds are the Reason of this #earthquake M...</td>\n",
       "      <td>1</td>\n",
       "      <td>our deeds are the reason of this earthquake ma...</td>\n",
       "      <td>68</td>\n",
       "      <td>13</td>\n",
       "      <td>our deed be the reason of this earthquake may ...</td>\n",
       "      <td>no keyword</td>\n",
       "      <td>147</td>\n",
       "      <td>unknown</td>\n",
       "    </tr>\n",
       "    <tr>\n",
       "      <th>1</th>\n",
       "      <td>4</td>\n",
       "      <td>no_keyword</td>\n",
       "      <td>unknown</td>\n",
       "      <td>Forest fire near La Ronge Sask. Canada</td>\n",
       "      <td>1</td>\n",
       "      <td>forest fire near la ronge sask canada</td>\n",
       "      <td>37</td>\n",
       "      <td>7</td>\n",
       "      <td>forest fire near la ronge sask canada</td>\n",
       "      <td>no keyword</td>\n",
       "      <td>147</td>\n",
       "      <td>unknown</td>\n",
       "    </tr>\n",
       "    <tr>\n",
       "      <th>2</th>\n",
       "      <td>5</td>\n",
       "      <td>no_keyword</td>\n",
       "      <td>unknown</td>\n",
       "      <td>All residents asked to 'shelter in place' are ...</td>\n",
       "      <td>1</td>\n",
       "      <td>all residents asked to shelter in place are be...</td>\n",
       "      <td>130</td>\n",
       "      <td>22</td>\n",
       "      <td>all resident ask to shelter in place be be not...</td>\n",
       "      <td>no keyword</td>\n",
       "      <td>147</td>\n",
       "      <td>unknown</td>\n",
       "    </tr>\n",
       "    <tr>\n",
       "      <th>3</th>\n",
       "      <td>6</td>\n",
       "      <td>no_keyword</td>\n",
       "      <td>unknown</td>\n",
       "      <td>13,000 people receive #wildfires evacuation or...</td>\n",
       "      <td>1</td>\n",
       "      <td>people receive wildfires evacuation orders in ...</td>\n",
       "      <td>56</td>\n",
       "      <td>7</td>\n",
       "      <td>people receive wildfire evacuation order in ca...</td>\n",
       "      <td>no keyword</td>\n",
       "      <td>147</td>\n",
       "      <td>unknown</td>\n",
       "    </tr>\n",
       "    <tr>\n",
       "      <th>4</th>\n",
       "      <td>7</td>\n",
       "      <td>no_keyword</td>\n",
       "      <td>unknown</td>\n",
       "      <td>Just got sent this photo from Ruby #Alaska as ...</td>\n",
       "      <td>1</td>\n",
       "      <td>just got sent this photo from ruby alaska as s...</td>\n",
       "      <td>85</td>\n",
       "      <td>16</td>\n",
       "      <td>just got send this photo from ruby alaska as s...</td>\n",
       "      <td>no keyword</td>\n",
       "      <td>147</td>\n",
       "      <td>unknown</td>\n",
       "    </tr>\n",
       "  </tbody>\n",
       "</table>\n",
       "</div>"
      ],
      "text/plain": [
       "   id     keyword location                                               text  \\\n",
       "0   1  no_keyword  unknown  Our Deeds are the Reason of this #earthquake M...   \n",
       "1   4  no_keyword  unknown             Forest fire near La Ronge Sask. Canada   \n",
       "2   5  no_keyword  unknown  All residents asked to 'shelter in place' are ...   \n",
       "3   6  no_keyword  unknown  13,000 people receive #wildfires evacuation or...   \n",
       "4   7  no_keyword  unknown  Just got sent this photo from Ruby #Alaska as ...   \n",
       "\n",
       "   target                                         text_clean  text_len  \\\n",
       "0       1  our deeds are the reason of this earthquake ma...        68   \n",
       "1       1              forest fire near la ronge sask canada        37   \n",
       "2       1  all residents asked to shelter in place are be...       130   \n",
       "3       1  people receive wildfires evacuation orders in ...        56   \n",
       "4       1  just got sent this photo from ruby alaska as s...        85   \n",
       "\n",
       "   word_count                                    text_lemmatized  \\\n",
       "0          13  our deed be the reason of this earthquake may ...   \n",
       "1           7              forest fire near la ronge sask canada   \n",
       "2          22  all resident ask to shelter in place be be not...   \n",
       "3           7  people receive wildfire evacuation order in ca...   \n",
       "4          16  just got send this photo from ruby alaska as s...   \n",
       "\n",
       "  keyword_clean  keyword_encoded location_clean  \n",
       "0    no keyword              147        unknown  \n",
       "1    no keyword              147        unknown  \n",
       "2    no keyword              147        unknown  \n",
       "3    no keyword              147        unknown  \n",
       "4    no keyword              147        unknown  "
      ]
     },
     "execution_count": 28,
     "metadata": {},
     "output_type": "execute_result"
    }
   ],
   "source": [
    "from sqlalchemy import create_engine\n",
    "import pandas as pd\n",
    "\n",
    "# Conection to PostgreSQL in RDS\n",
    "host = \"disaster-tweets-db.cjkms2wu4u6j.eu-north-1.rds.amazonaws.com\"\n",
    "port = \"5432\"\n",
    "database = \"disaster-tweets-db\"\n",
    "user = \"master\"\n",
    "password = \"xxxxx\"\n",
    "\n",
    "# Create conection\n",
    "engine = create_engine(f\"postgresql+psycopg2://{user}:{password}@{host}:{port}/{database}\")\n",
    "\n",
    "# Load data from table\n",
    "df = pd.read_sql_query(\"SELECT * FROM tweets_train_clean\", con=engine)\n",
    "\n",
    "# Check data from first rows\n",
    "df.head()"
   ]
  },
  {
   "cell_type": "markdown",
   "id": "9e0bbab8-b1e2-466b-a080-e61066b79cc6",
   "metadata": {},
   "source": [
    "## Model 1 (Neural Network - multimode)"
   ]
  },
  {
   "cell_type": "markdown",
   "id": "93d035bf-e5eb-4cf6-8894-3c817460fef3",
   "metadata": {},
   "source": [
    "### Tokenize & Vectorize"
   ]
  },
  {
   "cell_type": "code",
   "execution_count": 4,
   "id": "ef167fca-9b3a-43ea-9646-311dc3410e3e",
   "metadata": {},
   "outputs": [
    {
     "name": "stdout",
     "output_type": "stream",
     "text": [
      "count    7613.000000\n",
      "mean       13.874557\n",
      "std         5.994581\n",
      "min         1.000000\n",
      "25%         9.000000\n",
      "50%        14.000000\n",
      "75%        18.000000\n",
      "max        33.000000\n",
      "Name: text_lemmatized, dtype: float64\n",
      "0.75    18.0\n",
      "0.90    22.0\n",
      "0.95    24.0\n",
      "0.99    28.0\n",
      "Name: text_lemmatized, dtype: float64\n",
      "Ejemplo de tweet original:\n",
      "our deed be the reason of this earthquake may allah forgive we all\n",
      "\n",
      "Secuencia tokenizada:\n",
      "[128, 3756, 3, 2, 549, 8, 22, 289, 152, 1437, 2142, 25, 43]\n",
      "\n",
      "Secuencia con padding:\n",
      "[ 128 3756    3    2  549    8   22  289  152 1437 2142   25   43    0\n",
      "    0    0    0    0    0    0    0    0    0    0    0    0    0    0\n",
      "    0    0    0    0    0]\n"
     ]
    }
   ],
   "source": [
    "from tensorflow.keras.preprocessing.text import Tokenizer\n",
    "from tensorflow.keras.preprocessing.sequence import pad_sequences\n",
    "\n",
    "# 1. Define text and target fields\n",
    "texts = df['text_lemmatized'].astype(str).tolist()  # Asegúrate de que son strings\n",
    "labels = df['target'].tolist()\n",
    "\n",
    "# 2. Tokenize\n",
    "tokenizer = Tokenizer(num_words=10000, oov_token=\"<OOV>\")\n",
    "tokenizer.fit_on_texts(texts)\n",
    "sequences = tokenizer.texts_to_sequences(texts)\n",
    "\n",
    "# 3. Padding (all sequences with same lenght)\n",
    "\n",
    "# analysis to set maxlen in padded_sequences\n",
    "lengths = df['text_lemmatized'].apply(lambda x: len(x.split()))\n",
    "print(lengths.describe())\n",
    "print(lengths.quantile([0.75, 0.90, 0.95, 0.99]))\n",
    "\n",
    "padded_sequences = pad_sequences(sequences, padding='post', maxlen=33)\n",
    "\n",
    "# 4. Verify with example\n",
    "print(\"Ejemplo de tweet original:\")\n",
    "print(texts[0])\n",
    "print(\"\\nSecuencia tokenizada:\")\n",
    "print(sequences[0])\n",
    "print(\"\\nSecuencia con padding:\")\n",
    "print(padded_sequences[0])\n"
   ]
  },
  {
   "cell_type": "code",
   "execution_count": 8,
   "id": "941931b6-2779-4fcb-9811-55e55a4ae073",
   "metadata": {},
   "outputs": [],
   "source": [
    "# saving tokenizer to apply it with test data\n",
    "\n",
    "import pickle\n",
    "\n",
    "with open(\"tokenizer.pickle\", \"wb\") as handle:\n",
    "    pickle.dump(tokenizer, handle, protocol=pickle.HIGHEST_PROTOCOL)\n",
    "\n",
    "# to import it again:\n",
    "# with open(\"tokenizer.pickle\", \"rb\") as handle:\n",
    "#    tokenizer = pickle.load(handle)"
   ]
  },
  {
   "cell_type": "markdown",
   "id": "0088ab12-efd3-4012-bb8c-ef9095b64fae",
   "metadata": {},
   "source": [
    "### Other Features: normalize & concatenate them"
   ]
  },
  {
   "cell_type": "code",
   "execution_count": 44,
   "id": "012211f8-08b6-4e0d-8da5-9f346744582b",
   "metadata": {},
   "outputs": [
    {
     "name": "stdout",
     "output_type": "stream",
     "text": [
      "(7613, 3)\n",
      "[[0.45454545 0.375      0.66515837]\n",
      " [0.23776224 0.1875     0.66515837]\n",
      " [0.88811189 0.65625    0.66515837]\n",
      " [0.37062937 0.1875     0.66515837]\n",
      " [0.57342657 0.46875    0.66515837]]\n"
     ]
    }
   ],
   "source": [
    "from sklearn.preprocessing import MinMaxScaler\n",
    "import numpy as np\n",
    "\n",
    "# Select othe numeric columns & concatenate them in a list\n",
    "X_meta_raw = df[['text_len', 'word_count', 'keyword_encoded']].values\n",
    "\n",
    "# Normalize\n",
    "scaler = MinMaxScaler()\n",
    "X_meta = scaler.fit_transform(X_meta_raw)\n",
    "\n",
    "# Check shape and first rows\n",
    "print(X_meta.shape)\n",
    "print(X_meta[:5])"
   ]
  },
  {
   "cell_type": "markdown",
   "id": "de56d01a-9206-4982-87d6-53e3ebc5c61f",
   "metadata": {},
   "source": [
    "#### We have 3 data lists/matrix to feed our model:\n",
    "\n",
    "* padded_sequences → vectorize text sequences (shape: [n_samples, 33])\n",
    "* X_meta → normalize numeric features (text_len, word_count, keyword_encoded) → (shape: [n_samples, 3])\n",
    "* labels → target vector (0 or 1) (shape: [n_samples])"
   ]
  },
  {
   "cell_type": "markdown",
   "id": "4817baeb-8a79-4bfa-857b-29a0dc641587",
   "metadata": {},
   "source": [
    "### Divide training/test"
   ]
  },
  {
   "cell_type": "code",
   "execution_count": 56,
   "id": "e4d82e13-3346-4dec-9cf1-d8b35b2d7256",
   "metadata": {},
   "outputs": [],
   "source": [
    "from sklearn.model_selection import train_test_split\n",
    "\n",
    "# Divide data\n",
    "X_text_train, X_text_test, X_meta_train, X_meta_test, y_train, y_test = train_test_split(\n",
    "    padded_sequences,\n",
    "    X_meta,\n",
    "    labels,\n",
    "    test_size=0.2,\n",
    "    random_state=42\n",
    ")"
   ]
  },
  {
   "cell_type": "code",
   "execution_count": 57,
   "id": "df1dec6d-c3a6-492d-939c-959eced1f670",
   "metadata": {},
   "outputs": [
    {
     "name": "stdout",
     "output_type": "stream",
     "text": [
      "X_text_train: (6090, 33)\n",
      "X_meta_train: (6090, 3)\n",
      "y_train: (6090,)\n"
     ]
    }
   ],
   "source": [
    "# transform to numpy arrays that Keras needs as suitable inputs\n",
    "\n",
    "X_text_train = np.array(X_text_train)\n",
    "X_meta_train = np.array(X_meta_train)\n",
    "y_train = np.array(y_train)\n",
    "\n",
    "X_text_test = np.array(X_text_test)\n",
    "X_meta_test = np.array(X_meta_test)\n",
    "y_test = np.array(y_test)\n",
    "\n",
    "print(\"X_text_train:\", X_text_train.shape)\n",
    "print(\"X_meta_train:\", X_meta_train.shape)\n",
    "print(\"y_train:\", y_train.shape)"
   ]
  },
  {
   "cell_type": "markdown",
   "id": "19a54913-7f99-4b0b-98ab-ef28230245b0",
   "metadata": {},
   "source": [
    "### Model definition/structure"
   ]
  },
  {
   "cell_type": "markdown",
   "id": "eb5a704b-745a-4a4f-a562-f329a8e30b1f",
   "metadata": {},
   "source": [
    "- problem definition -> binary classification (tweet about natural disaster or no ?)\n",
    "- available input data -> tweet text after lemmatize & tokenize & vectorize + 3 numeric variables (X_meta)\n",
    "\n",
    "model structure to build:\n",
    "1. Embeddings + LSTM → to understand sequential texts from tweets (Transformers (BERT...) would be another option).\n",
    "2. Denses over metadata → because X_meta contains flat numeric data (Decision Tree, XGBoost... would be options in ML models).\n",
    "3. Concatenate → because both data sources provide value.\n",
    "4. Output with sigmoid → because it's a binary classification."
   ]
  },
  {
   "cell_type": "code",
   "execution_count": 51,
   "id": "0dc193bb-7671-4cfd-8fad-1737303ce23b",
   "metadata": {},
   "outputs": [
    {
     "name": "stderr",
     "output_type": "stream",
     "text": [
      "C:\\Users\\Eros\\anaconda3\\envs\\tfmodel\\lib\\site-packages\\keras\\src\\layers\\core\\embedding.py:97: UserWarning: Argument `input_length` is deprecated. Just remove it.\n",
      "  warnings.warn(\n"
     ]
    },
    {
     "data": {
      "text/html": [
       "<pre style=\"white-space:pre;overflow-x:auto;line-height:normal;font-family:Menlo,'DejaVu Sans Mono',consolas,'Courier New',monospace\"><span style=\"font-weight: bold\">Model: \"functional\"</span>\n",
       "</pre>\n"
      ],
      "text/plain": [
       "\u001b[1mModel: \"functional\"\u001b[0m\n"
      ]
     },
     "metadata": {},
     "output_type": "display_data"
    },
    {
     "data": {
      "text/html": [
       "<pre style=\"white-space:pre;overflow-x:auto;line-height:normal;font-family:Menlo,'DejaVu Sans Mono',consolas,'Courier New',monospace\">┏━━━━━━━━━━━━━━━━━━━━━━━━━━━━━━━┳━━━━━━━━━━━━━━━━━━━━━━━━━━━┳━━━━━━━━━━━━━━━━━┳━━━━━━━━━━━━━━━━━━━━━━━━━━━━┓\n",
       "┃<span style=\"font-weight: bold\"> Layer (type)                  </span>┃<span style=\"font-weight: bold\"> Output Shape              </span>┃<span style=\"font-weight: bold\">         Param # </span>┃<span style=\"font-weight: bold\"> Connected to               </span>┃\n",
       "┡━━━━━━━━━━━━━━━━━━━━━━━━━━━━━━━╇━━━━━━━━━━━━━━━━━━━━━━━━━━━╇━━━━━━━━━━━━━━━━━╇━━━━━━━━━━━━━━━━━━━━━━━━━━━━┩\n",
       "│ text_input (<span style=\"color: #0087ff; text-decoration-color: #0087ff\">InputLayer</span>)       │ (<span style=\"color: #00d7ff; text-decoration-color: #00d7ff\">None</span>, <span style=\"color: #00af00; text-decoration-color: #00af00\">33</span>)                │               <span style=\"color: #00af00; text-decoration-color: #00af00\">0</span> │ -                          │\n",
       "├───────────────────────────────┼───────────────────────────┼─────────────────┼────────────────────────────┤\n",
       "│ embedding (<span style=\"color: #0087ff; text-decoration-color: #0087ff\">Embedding</span>)         │ (<span style=\"color: #00d7ff; text-decoration-color: #00d7ff\">None</span>, <span style=\"color: #00af00; text-decoration-color: #00af00\">33</span>, <span style=\"color: #00af00; text-decoration-color: #00af00\">128</span>)           │       <span style=\"color: #00af00; text-decoration-color: #00af00\">1,280,000</span> │ text_input[<span style=\"color: #00af00; text-decoration-color: #00af00\">0</span>][<span style=\"color: #00af00; text-decoration-color: #00af00\">0</span>]           │\n",
       "├───────────────────────────────┼───────────────────────────┼─────────────────┼────────────────────────────┤\n",
       "│ lstm (<span style=\"color: #0087ff; text-decoration-color: #0087ff\">LSTM</span>)                   │ (<span style=\"color: #00d7ff; text-decoration-color: #00d7ff\">None</span>, <span style=\"color: #00af00; text-decoration-color: #00af00\">33</span>, <span style=\"color: #00af00; text-decoration-color: #00af00\">32</span>)            │          <span style=\"color: #00af00; text-decoration-color: #00af00\">20,608</span> │ embedding[<span style=\"color: #00af00; text-decoration-color: #00af00\">0</span>][<span style=\"color: #00af00; text-decoration-color: #00af00\">0</span>]            │\n",
       "├───────────────────────────────┼───────────────────────────┼─────────────────┼────────────────────────────┤\n",
       "│ meta_input (<span style=\"color: #0087ff; text-decoration-color: #0087ff\">InputLayer</span>)       │ (<span style=\"color: #00d7ff; text-decoration-color: #00d7ff\">None</span>, <span style=\"color: #00af00; text-decoration-color: #00af00\">3</span>)                 │               <span style=\"color: #00af00; text-decoration-color: #00af00\">0</span> │ -                          │\n",
       "├───────────────────────────────┼───────────────────────────┼─────────────────┼────────────────────────────┤\n",
       "│ global_average_pooling1d      │ (<span style=\"color: #00d7ff; text-decoration-color: #00d7ff\">None</span>, <span style=\"color: #00af00; text-decoration-color: #00af00\">32</span>)                │               <span style=\"color: #00af00; text-decoration-color: #00af00\">0</span> │ lstm[<span style=\"color: #00af00; text-decoration-color: #00af00\">0</span>][<span style=\"color: #00af00; text-decoration-color: #00af00\">0</span>]                 │\n",
       "│ (<span style=\"color: #0087ff; text-decoration-color: #0087ff\">GlobalAveragePooling1D</span>)      │                           │                 │                            │\n",
       "├───────────────────────────────┼───────────────────────────┼─────────────────┼────────────────────────────┤\n",
       "│ dense (<span style=\"color: #0087ff; text-decoration-color: #0087ff\">Dense</span>)                 │ (<span style=\"color: #00d7ff; text-decoration-color: #00d7ff\">None</span>, <span style=\"color: #00af00; text-decoration-color: #00af00\">16</span>)                │              <span style=\"color: #00af00; text-decoration-color: #00af00\">64</span> │ meta_input[<span style=\"color: #00af00; text-decoration-color: #00af00\">0</span>][<span style=\"color: #00af00; text-decoration-color: #00af00\">0</span>]           │\n",
       "├───────────────────────────────┼───────────────────────────┼─────────────────┼────────────────────────────┤\n",
       "│ concatenate (<span style=\"color: #0087ff; text-decoration-color: #0087ff\">Concatenate</span>)     │ (<span style=\"color: #00d7ff; text-decoration-color: #00d7ff\">None</span>, <span style=\"color: #00af00; text-decoration-color: #00af00\">48</span>)                │               <span style=\"color: #00af00; text-decoration-color: #00af00\">0</span> │ global_average_pooling1d[<span style=\"color: #00af00; text-decoration-color: #00af00\">…</span> │\n",
       "│                               │                           │                 │ dense[<span style=\"color: #00af00; text-decoration-color: #00af00\">0</span>][<span style=\"color: #00af00; text-decoration-color: #00af00\">0</span>]                │\n",
       "├───────────────────────────────┼───────────────────────────┼─────────────────┼────────────────────────────┤\n",
       "│ dense_1 (<span style=\"color: #0087ff; text-decoration-color: #0087ff\">Dense</span>)               │ (<span style=\"color: #00d7ff; text-decoration-color: #00d7ff\">None</span>, <span style=\"color: #00af00; text-decoration-color: #00af00\">16</span>)                │             <span style=\"color: #00af00; text-decoration-color: #00af00\">784</span> │ concatenate[<span style=\"color: #00af00; text-decoration-color: #00af00\">0</span>][<span style=\"color: #00af00; text-decoration-color: #00af00\">0</span>]          │\n",
       "├───────────────────────────────┼───────────────────────────┼─────────────────┼────────────────────────────┤\n",
       "│ dropout (<span style=\"color: #0087ff; text-decoration-color: #0087ff\">Dropout</span>)             │ (<span style=\"color: #00d7ff; text-decoration-color: #00d7ff\">None</span>, <span style=\"color: #00af00; text-decoration-color: #00af00\">16</span>)                │               <span style=\"color: #00af00; text-decoration-color: #00af00\">0</span> │ dense_1[<span style=\"color: #00af00; text-decoration-color: #00af00\">0</span>][<span style=\"color: #00af00; text-decoration-color: #00af00\">0</span>]              │\n",
       "├───────────────────────────────┼───────────────────────────┼─────────────────┼────────────────────────────┤\n",
       "│ dense_2 (<span style=\"color: #0087ff; text-decoration-color: #0087ff\">Dense</span>)               │ (<span style=\"color: #00d7ff; text-decoration-color: #00d7ff\">None</span>, <span style=\"color: #00af00; text-decoration-color: #00af00\">1</span>)                 │              <span style=\"color: #00af00; text-decoration-color: #00af00\">17</span> │ dropout[<span style=\"color: #00af00; text-decoration-color: #00af00\">0</span>][<span style=\"color: #00af00; text-decoration-color: #00af00\">0</span>]              │\n",
       "└───────────────────────────────┴───────────────────────────┴─────────────────┴────────────────────────────┘\n",
       "</pre>\n"
      ],
      "text/plain": [
       "┏━━━━━━━━━━━━━━━━━━━━━━━━━━━━━━━┳━━━━━━━━━━━━━━━━━━━━━━━━━━━┳━━━━━━━━━━━━━━━━━┳━━━━━━━━━━━━━━━━━━━━━━━━━━━━┓\n",
       "┃\u001b[1m \u001b[0m\u001b[1mLayer (type)                 \u001b[0m\u001b[1m \u001b[0m┃\u001b[1m \u001b[0m\u001b[1mOutput Shape             \u001b[0m\u001b[1m \u001b[0m┃\u001b[1m \u001b[0m\u001b[1m        Param #\u001b[0m\u001b[1m \u001b[0m┃\u001b[1m \u001b[0m\u001b[1mConnected to              \u001b[0m\u001b[1m \u001b[0m┃\n",
       "┡━━━━━━━━━━━━━━━━━━━━━━━━━━━━━━━╇━━━━━━━━━━━━━━━━━━━━━━━━━━━╇━━━━━━━━━━━━━━━━━╇━━━━━━━━━━━━━━━━━━━━━━━━━━━━┩\n",
       "│ text_input (\u001b[38;5;33mInputLayer\u001b[0m)       │ (\u001b[38;5;45mNone\u001b[0m, \u001b[38;5;34m33\u001b[0m)                │               \u001b[38;5;34m0\u001b[0m │ -                          │\n",
       "├───────────────────────────────┼───────────────────────────┼─────────────────┼────────────────────────────┤\n",
       "│ embedding (\u001b[38;5;33mEmbedding\u001b[0m)         │ (\u001b[38;5;45mNone\u001b[0m, \u001b[38;5;34m33\u001b[0m, \u001b[38;5;34m128\u001b[0m)           │       \u001b[38;5;34m1,280,000\u001b[0m │ text_input[\u001b[38;5;34m0\u001b[0m][\u001b[38;5;34m0\u001b[0m]           │\n",
       "├───────────────────────────────┼───────────────────────────┼─────────────────┼────────────────────────────┤\n",
       "│ lstm (\u001b[38;5;33mLSTM\u001b[0m)                   │ (\u001b[38;5;45mNone\u001b[0m, \u001b[38;5;34m33\u001b[0m, \u001b[38;5;34m32\u001b[0m)            │          \u001b[38;5;34m20,608\u001b[0m │ embedding[\u001b[38;5;34m0\u001b[0m][\u001b[38;5;34m0\u001b[0m]            │\n",
       "├───────────────────────────────┼───────────────────────────┼─────────────────┼────────────────────────────┤\n",
       "│ meta_input (\u001b[38;5;33mInputLayer\u001b[0m)       │ (\u001b[38;5;45mNone\u001b[0m, \u001b[38;5;34m3\u001b[0m)                 │               \u001b[38;5;34m0\u001b[0m │ -                          │\n",
       "├───────────────────────────────┼───────────────────────────┼─────────────────┼────────────────────────────┤\n",
       "│ global_average_pooling1d      │ (\u001b[38;5;45mNone\u001b[0m, \u001b[38;5;34m32\u001b[0m)                │               \u001b[38;5;34m0\u001b[0m │ lstm[\u001b[38;5;34m0\u001b[0m][\u001b[38;5;34m0\u001b[0m]                 │\n",
       "│ (\u001b[38;5;33mGlobalAveragePooling1D\u001b[0m)      │                           │                 │                            │\n",
       "├───────────────────────────────┼───────────────────────────┼─────────────────┼────────────────────────────┤\n",
       "│ dense (\u001b[38;5;33mDense\u001b[0m)                 │ (\u001b[38;5;45mNone\u001b[0m, \u001b[38;5;34m16\u001b[0m)                │              \u001b[38;5;34m64\u001b[0m │ meta_input[\u001b[38;5;34m0\u001b[0m][\u001b[38;5;34m0\u001b[0m]           │\n",
       "├───────────────────────────────┼───────────────────────────┼─────────────────┼────────────────────────────┤\n",
       "│ concatenate (\u001b[38;5;33mConcatenate\u001b[0m)     │ (\u001b[38;5;45mNone\u001b[0m, \u001b[38;5;34m48\u001b[0m)                │               \u001b[38;5;34m0\u001b[0m │ global_average_pooling1d[\u001b[38;5;34m…\u001b[0m │\n",
       "│                               │                           │                 │ dense[\u001b[38;5;34m0\u001b[0m][\u001b[38;5;34m0\u001b[0m]                │\n",
       "├───────────────────────────────┼───────────────────────────┼─────────────────┼────────────────────────────┤\n",
       "│ dense_1 (\u001b[38;5;33mDense\u001b[0m)               │ (\u001b[38;5;45mNone\u001b[0m, \u001b[38;5;34m16\u001b[0m)                │             \u001b[38;5;34m784\u001b[0m │ concatenate[\u001b[38;5;34m0\u001b[0m][\u001b[38;5;34m0\u001b[0m]          │\n",
       "├───────────────────────────────┼───────────────────────────┼─────────────────┼────────────────────────────┤\n",
       "│ dropout (\u001b[38;5;33mDropout\u001b[0m)             │ (\u001b[38;5;45mNone\u001b[0m, \u001b[38;5;34m16\u001b[0m)                │               \u001b[38;5;34m0\u001b[0m │ dense_1[\u001b[38;5;34m0\u001b[0m][\u001b[38;5;34m0\u001b[0m]              │\n",
       "├───────────────────────────────┼───────────────────────────┼─────────────────┼────────────────────────────┤\n",
       "│ dense_2 (\u001b[38;5;33mDense\u001b[0m)               │ (\u001b[38;5;45mNone\u001b[0m, \u001b[38;5;34m1\u001b[0m)                 │              \u001b[38;5;34m17\u001b[0m │ dropout[\u001b[38;5;34m0\u001b[0m][\u001b[38;5;34m0\u001b[0m]              │\n",
       "└───────────────────────────────┴───────────────────────────┴─────────────────┴────────────────────────────┘\n"
      ]
     },
     "metadata": {},
     "output_type": "display_data"
    },
    {
     "data": {
      "text/html": [
       "<pre style=\"white-space:pre;overflow-x:auto;line-height:normal;font-family:Menlo,'DejaVu Sans Mono',consolas,'Courier New',monospace\"><span style=\"font-weight: bold\"> Total params: </span><span style=\"color: #00af00; text-decoration-color: #00af00\">1,301,473</span> (4.96 MB)\n",
       "</pre>\n"
      ],
      "text/plain": [
       "\u001b[1m Total params: \u001b[0m\u001b[38;5;34m1,301,473\u001b[0m (4.96 MB)\n"
      ]
     },
     "metadata": {},
     "output_type": "display_data"
    },
    {
     "data": {
      "text/html": [
       "<pre style=\"white-space:pre;overflow-x:auto;line-height:normal;font-family:Menlo,'DejaVu Sans Mono',consolas,'Courier New',monospace\"><span style=\"font-weight: bold\"> Trainable params: </span><span style=\"color: #00af00; text-decoration-color: #00af00\">1,301,473</span> (4.96 MB)\n",
       "</pre>\n"
      ],
      "text/plain": [
       "\u001b[1m Trainable params: \u001b[0m\u001b[38;5;34m1,301,473\u001b[0m (4.96 MB)\n"
      ]
     },
     "metadata": {},
     "output_type": "display_data"
    },
    {
     "data": {
      "text/html": [
       "<pre style=\"white-space:pre;overflow-x:auto;line-height:normal;font-family:Menlo,'DejaVu Sans Mono',consolas,'Courier New',monospace\"><span style=\"font-weight: bold\"> Non-trainable params: </span><span style=\"color: #00af00; text-decoration-color: #00af00\">0</span> (0.00 B)\n",
       "</pre>\n"
      ],
      "text/plain": [
       "\u001b[1m Non-trainable params: \u001b[0m\u001b[38;5;34m0\u001b[0m (0.00 B)\n"
      ]
     },
     "metadata": {},
     "output_type": "display_data"
    }
   ],
   "source": [
    "import tensorflow as tf\n",
    "from tensorflow.keras.models import Model\n",
    "from tensorflow.keras.layers import Input, Embedding, LSTM, Dense, Dropout, Concatenate, GlobalAveragePooling1D\n",
    "from tensorflow.keras import regularizers # add L2 regularization technic to penalize overlearning/overfitting \n",
    "\n",
    "# Key parameters\n",
    "vocab_size = 10000 # total different possible words\n",
    "embedding_dim = 128\n",
    "maxlen = 33\n",
    "\n",
    "# Input 1: Text\n",
    "text_input = Input(shape=(maxlen,), name=\"text_input\") # define fixed size input, each input is a text/tweet and each element a word/token as a number\n",
    "\n",
    "  # transform each token in a dense vector with dimension = embedding_dim -> result: a matrix with dimension (maxlen, embedding_dim) per tweet/input\n",
    "x = Embedding(input_dim=vocab_size, output_dim=embedding_dim, input_length=maxlen)(text_input) \n",
    "\n",
    "  # Long Short-Term Memory -> processvector sequences word by word, catch temporal dependencies and context; return all sequence per token, not only last state\n",
    "x = LSTM(32, return_sequences=True)(x) \n",
    "\n",
    "  # summarize the sequence calculating all vectors (from LSTM output) average\n",
    "x = GlobalAveragePooling1D()(x)\n",
    "\n",
    "# Input 2: Metadata\n",
    "meta_input = Input(shape=(3,), name=\"meta_input\") # defined input with 3 values/columns (X_meta)\n",
    "m = Dense(16, activation='relu')(meta_input) # give learnable representation; ReLu suitable for hidden layers: fast and avoids gradient descent\n",
    "\n",
    "# Concatenate\n",
    "combined = Concatenate()([x, m])\n",
    "z = Dense(16, activation='relu', kernel_regularizer=regularizers.l2(0.001))(combined) # hidden layer for learning nonlinear combinations\n",
    "z = Dropout(0.3)(z) # regularization, randomly turns off half of the neurons to avoid overfitting\n",
    "z = Dense(1, activation='sigmoid')(z) # output layer, returns a value between 0 and 1 → probability that it is a disaster; Sigmoid suitable for binary\n",
    "# classification (provides probability between 0 and 1)\n",
    "\n",
    "# Model\n",
    "model = Model(inputs=[text_input, meta_input], outputs=z)\n",
    "model.compile(loss='binary_crossentropy', optimizer='adam', metrics=['accuracy'])\n",
    "# loss function would be \"categorical_crossentropy\" if task is multiclass classification, or MSE/MAE/... if task is regression\n",
    "# optimizer Adam is common: fast, strong, stable with many parameters, etc...\n",
    "\n",
    "model.summary()"
   ]
  },
  {
   "cell_type": "markdown",
   "id": "f1183f39-bef8-4c3f-be1e-6f9e808f63eb",
   "metadata": {},
   "source": [
    "### Training"
   ]
  },
  {
   "cell_type": "code",
   "execution_count": 52,
   "id": "3a63dc28-0307-458f-bca7-518d488de362",
   "metadata": {
    "scrolled": true
   },
   "outputs": [
    {
     "name": "stdout",
     "output_type": "stream",
     "text": [
      "Epoch 1/10\n",
      "\u001b[1m191/191\u001b[0m \u001b[32m━━━━━━━━━━━━━━━━━━━━\u001b[0m\u001b[37m\u001b[0m \u001b[1m9s\u001b[0m 29ms/step - accuracy: 0.6172 - loss: 0.6645 - val_accuracy: 0.7991 - val_loss: 0.4853\n",
      "Epoch 2/10\n",
      "\u001b[1m191/191\u001b[0m \u001b[32m━━━━━━━━━━━━━━━━━━━━\u001b[0m\u001b[37m\u001b[0m \u001b[1m5s\u001b[0m 28ms/step - accuracy: 0.8568 - loss: 0.3983 - val_accuracy: 0.8076 - val_loss: 0.4574\n",
      "Epoch 3/10\n",
      "\u001b[1m191/191\u001b[0m \u001b[32m━━━━━━━━━━━━━━━━━━━━\u001b[0m\u001b[37m\u001b[0m \u001b[1m6s\u001b[0m 31ms/step - accuracy: 0.9112 - loss: 0.2781 - val_accuracy: 0.7932 - val_loss: 0.5113\n",
      "Epoch 4/10\n",
      "\u001b[1m191/191\u001b[0m \u001b[32m━━━━━━━━━━━━━━━━━━━━\u001b[0m\u001b[37m\u001b[0m \u001b[1m5s\u001b[0m 27ms/step - accuracy: 0.9422 - loss: 0.2060 - val_accuracy: 0.7932 - val_loss: 0.5813\n",
      "Epoch 5/10\n",
      "\u001b[1m191/191\u001b[0m \u001b[32m━━━━━━━━━━━━━━━━━━━━\u001b[0m\u001b[37m\u001b[0m \u001b[1m6s\u001b[0m 29ms/step - accuracy: 0.9592 - loss: 0.1535 - val_accuracy: 0.7866 - val_loss: 0.6666\n"
     ]
    },
    {
     "data": {
      "image/png": "[encoded data removed]",
      "text/plain": [
       "<Figure size 640x480 with 1 Axes>"
      ]
     },
     "metadata": {},
     "output_type": "display_data"
    }
   ],
   "source": [
    "from tensorflow.keras.callbacks import EarlyStopping\n",
    "\n",
    "# to end training when model stops improving in validation\n",
    "# with \"patient\" waits X EPOCHS without improving before stop it\n",
    "# with \"restore_best_weights\"  = True -> it comes back to the model at better EPOCH\n",
    "early_stop = EarlyStopping(monitor='val_accuracy', patience=3, restore_best_weights=True)\n",
    "\n",
    "history = model.fit(\n",
    "    [X_text_train, X_meta_train],\n",
    "    y_train,\n",
    "    epochs=10,\n",
    "    batch_size=32,\n",
    "    validation_data=(\n",
    "        {'text_input': X_text_test, 'meta_input': X_meta_test},\n",
    "        y_test\n",
    "    ),\n",
    "    callbacks=[early_stop]\n",
    ")\n",
    "\n",
    "# batch_size:\n",
    "#  - small size (8-32) generalize better but slower, more noise at gradient (it could help to escape from local minimums)\n",
    "#  - big size (64-256) more stable and faster by EPOCH, but more overfitting or stay at local minimums\n",
    "# high accuracy + low loss at training BUT low/similar val_accuracy + high/similar val_loss -> OVERFITTING\n",
    "# note: 191/191 comes from 6100 training rows / 32 (batch size) = 191 batches\n",
    "\n",
    "# Plot\n",
    "import matplotlib.pyplot as plt\n",
    "\n",
    "plt.plot(history.history['accuracy'], label='Train Acc')\n",
    "plt.plot(history.history['val_accuracy'], label='Val Acc')\n",
    "plt.legend()\n",
    "plt.grid()\n",
    "plt.show()"
   ]
  },
  {
   "cell_type": "code",
   "execution_count": 80,
   "id": "8ff44cb9-a783-4de7-9bb1-5357d9be0b67",
   "metadata": {},
   "outputs": [
    {
     "data": {
      "image/png": "[encoded data removed]",
      "text/plain": [
       "<Figure size 1000x500 with 1 Axes>"
      ]
     },
     "metadata": {},
     "output_type": "display_data"
    }
   ],
   "source": [
    "# Create a list to save results\n",
    "# results = [] # comment after first append\n",
    "\n",
    "# Evaluate model with test data after training it:\n",
    "loss, accuracy = model.evaluate([X_text_test, X_meta_test], y_test, verbose=0)\n",
    "\n",
    "# Save results\n",
    "results.append({\n",
    "    \"test_accuracy\": accuracy,\n",
    "    \"test_loss\": loss,\n",
    "    \"modelo\": \"Step 6: No Dense(16) at Metadata\" # LSTM(64)_Dense(64)_Dropout(0.5)_embedding_dim(128) \n",
    "})\n",
    "\n",
    "# From list to dataframe\n",
    "df_results = pd.DataFrame(results)\n",
    "\n",
    "# Plot\n",
    "plt.figure(figsize=(10, 5))\n",
    "plt.plot(df_results[\"test_accuracy\"], marker='o', label=\"Test Accuracy\")\n",
    "plt.plot(df_results[\"test_loss\"], marker='x', label=\"Test Loss\")\n",
    "plt.xticks(range(len(df_results)), df_results[\"modelo\"], rotation=45)\n",
    "plt.legend()\n",
    "plt.grid()\n",
    "plt.tight_layout()\n",
    "plt.show()"
   ]
  },
  {
   "cell_type": "code",
   "execution_count": 73,
   "id": "d859dd6b-f81d-4b3a-8dd5-137a41b3e363",
   "metadata": {},
   "outputs": [],
   "source": [
    "# IMPORTANT: SAVE MODEL WITH BEST PERFORMANCE TO APPLY IT LATER (WITH TEST DATA)\n",
    "model.save(\"best_multimodal_model.keras\") # run this when structure model is defined with best val_accuracy\n",
    "\n",
    "# to import it later:\n",
    "#from tensorflow.keras.models import load_model\n",
    "#model = load_model(\"best_multimodal_model_step3\")"
   ]
  },
  {
   "cell_type": "code",
   "execution_count": 92,
   "id": "463157d7-0a5a-4eb5-bf29-44e2f9eb075c",
   "metadata": {},
   "outputs": [
    {
     "name": "stdout",
     "output_type": "stream",
     "text": [
      "   test_accuracy  test_loss                                             modelo\n",
      "0       0.790545   0.468056  LSTM(64)_Dense(64)_Dropout(0.5)_embedding_dim(...\n",
      "1       0.803677   0.475768                               Step 1: LSTM(64->32)\n",
      "2       0.799081   0.484392            Step 2: Dense(64->16) after Concatenate\n",
      "3       0.805647   0.487763                          Step 3: Dropout(0.5->0.3)\n",
      "4       0.805647   0.455193                     Step 4: embedding_dim(128->64)\n",
      "5       0.797768   0.500491            Step 5: No GlobalAveragePooling1D Layer\n",
      "6       0.764281   0.576288                   Step 6: No Dense(16) at Metadata\n"
     ]
    }
   ],
   "source": [
    "print(df_results)\n",
    "# analysing results we decide to apply changes (to reduce overfitting) until step 4, when better test_accuracy is obtained\n",
    "\n",
    "df_results.to_csv(\"model_results_nn.csv\", index=False)"
   ]
  },
  {
   "cell_type": "code",
   "execution_count": 95,
   "id": "5abe3d23-698c-4786-81aa-e55ecf81d63a",
   "metadata": {},
   "outputs": [],
   "source": [
    "# in addition to exporting locally to csv format, we'll upload to a new table at RDS database (AWS)\n",
    "# we define a function to apply that upload because we'll use many more times\n",
    "\n",
    "def upload_to_rds(df, table_name):\n",
    "    df.to_sql(table_name, con=engine, index=False, if_exists=\"replace\")\n",
    "\n",
    "upload_to_rds(df_results, \"model_results_nn\")"
   ]
  },
  {
   "cell_type": "markdown",
   "id": "e3125f59-2a11-49d1-ae08-4da56d5821ee",
   "metadata": {},
   "source": [
    "#### Confusion Matrix & Classification Report from Choosen/Best Model"
   ]
  },
  {
   "cell_type": "code",
   "execution_count": 47,
   "id": "cc8fbe08-4465-419e-90b9-b5e357281b57",
   "metadata": {},
   "outputs": [],
   "source": [
    "# PREVIOUS REPEATED CODE\n",
    "# we have to re-create/re-define needed data (not saved at memory) to apply choosen/best model\n",
    "# after importing data from database at RDS (AWS), we have to apply same saved tokenizer & model (creating val_dataset that was not saved in memory)\n",
    "\n",
    "# import saved tokenizer (same used to obtained choosen/best model) and recalculate padded_sequences to get exact ones we got with same tokenizer\n",
    "import pickle\n",
    "with open(\"tokenizer.pickle\", \"rb\") as handle:\n",
    "    tokenizer = pickle.load(handle)\n",
    "\n",
    "from tensorflow.keras.preprocessing.sequence import pad_sequences\n",
    "labels = df['target'].tolist()\n",
    "texts = df['text_lemmatized'].astype(str).tolist()\n",
    "tokenizer.fit_on_texts(texts)\n",
    "sequences = tokenizer.texts_to_sequences(texts)\n",
    "padded_sequences = pad_sequences(sequences, padding='post', maxlen=33)\n",
    "\n",
    "# IMPORTANT -> X_meta can be get running same defined cell at the begining of the code, with no changes; labels is calculating again here with a single\n",
    "# code line, and padded_sequences is the required input to the model that must be got applying saved tokenizer, with these code lines above\n",
    "# After this, it must be executed same previous code to split into train/test"
   ]
  },
  {
   "cell_type": "code",
   "execution_count": 99,
   "id": "b32c1b88-aa4c-4449-ae65-61f7e06ab91b",
   "metadata": {},
   "outputs": [
    {
     "name": "stdout",
     "output_type": "stream",
     "text": [
      "\u001b[1m48/48\u001b[0m \u001b[32m━━━━━━━━━━━━━━━━━━━━\u001b[0m\u001b[37m\u001b[0m \u001b[1m1s\u001b[0m 8ms/step\n",
      "Confusion Matrix:\n",
      " [[733 121]\n",
      " [175 494]]\n",
      "\n",
      "Classification Report:\n",
      " {'0': {'precision': 0.8072687224669604, 'recall': 0.8583138173302107, 'f1-score': 0.8320090805902384, 'support': 854}, '1': {'precision': 0.8032520325203252, 'recall': 0.7384155455904334, 'f1-score': 0.7694704049844235, 'support': 669}, 'accuracy': 0.8056467498358503, 'macro avg': {'precision': 0.8052603774936428, 'recall': 0.798364681460322, 'f1-score': 0.800739742787331, 'support': 1523}, 'weighted avg': {'precision': 0.8055043327267772, 'recall': 0.8056467498358503, 'f1-score': 0.8045380536826283, 'support': 1523}}\n"
     ]
    }
   ],
   "source": [
    "# NEW CODE\n",
    "\n",
    "# 1 - Import saved best model\n",
    "from tensorflow import keras\n",
    "model = keras.models.load_model(\"best_multimodal_model.keras\")\n",
    "\n",
    "# 2 - Get predictions on the validation dataset\n",
    "pred_probs = model.predict([X_text_test, X_meta_test])\n",
    "y_pred = (pred_probs > 0.5).astype(int).flatten()\n",
    "\n",
    "# 3 - Real labels -> we got them at y_test\n",
    "\n",
    "# 4 - New evaluation metrics & export\n",
    "from sklearn.metrics import classification_report, confusion_matrix\n",
    "\n",
    "cm_nn = confusion_matrix(y_test, y_pred)\n",
    "df_cm_nn = pd.DataFrame(cm_nn).rename(columns={'0': 'class 0 - no disaster', '1': 'class 1 - disaster'})\n",
    "df_cm_nn[\"actual_class\"] = [\"class 0 - no disaster\", \"class 1 - disaster\"]\n",
    "df_cm_nn.to_csv(\"confusion_matrix__nn_model.csv\", index=False)\n",
    "print(\"Confusion Matrix:\\n\", cm_nn)\n",
    "\n",
    "report_nn = classification_report(y_test, y_pred, output_dict=True)\n",
    "pd.DataFrame(report_nn).transpose().to_csv(\"classification_report__nn_model.csv\")\n",
    "print(\"\\nClassification Report:\\n\", report_nn)\n",
    "\n",
    "# 5 - upload to RDS\n",
    "upload_to_rds(df_cm_nn, \"confusion_matrix__nn_model\")\n",
    "upload_to_rds(pd.DataFrame(report_nn).transpose(), \"classification_report__nn_model\")"
   ]
  },
  {
   "cell_type": "markdown",
   "id": "e69fed16-bcbc-4532-89cd-88387cc8139c",
   "metadata": {},
   "source": [
    "## Model 2 (Transformers)"
   ]
  },
  {
   "cell_type": "markdown",
   "id": "ff266631-b61d-4944-9506-76af69ab0508",
   "metadata": {},
   "source": [
    "#### Tokenize"
   ]
  },
  {
   "cell_type": "code",
   "execution_count": 7,
   "id": "7f59f350-147b-4532-8480-a9ffecf9e050",
   "metadata": {},
   "outputs": [],
   "source": [
    "import numpy as np\n",
    "from transformers import DistilBertTokenizerFast\n",
    "\n",
    "# pre-trained tokenizer with big corpus that recognize words, sub-words, symbols... not based on our texts/tweets\n",
    "# it provides vectors with ids + mask tknow parts of the text to import (all required by this specific model\n",
    "tokenizer = DistilBertTokenizerFast.from_pretrained(\"distilbert-base-uncased\")\n",
    "encodings = tokenizer(\n",
    "    df[\"text_lemmatized\"].tolist(),\n",
    "    truncation=True,\n",
    "    padding=True,\n",
    "    max_length=128,\n",
    "    return_tensors=\"tf\"  # or \"pt\" if applying PyTorch\n",
    ")\n",
    "\n",
    "# transform tensors to numpy_arrays because train/test_split will need that format/type\n",
    "input_ids_np = encodings['input_ids'].numpy()\n",
    "attention_mask_np = encodings['attention_mask'].numpy()\n",
    "\n",
    "# prepare labels as numpy array or tensor\n",
    "labels = np.array(df[\"target\"])"
   ]
  },
  {
   "cell_type": "code",
   "execution_count": 50,
   "id": "a152e7ee-0ff3-4e0b-bf30-d7b3f3901b5e",
   "metadata": {},
   "outputs": [
    {
     "data": {
      "text/plain": [
       "('best_transformer_model_tokenizer\\\\tokenizer_config.json',\n",
       " 'best_transformer_model_tokenizer\\\\special_tokens_map.json',\n",
       " 'best_transformer_model_tokenizer\\\\vocab.txt',\n",
       " 'best_transformer_model_tokenizer\\\\added_tokens.json',\n",
       " 'best_transformer_model_tokenizer\\\\tokenizer.json')"
      ]
     },
     "execution_count": 50,
     "metadata": {},
     "output_type": "execute_result"
    }
   ],
   "source": [
    "# saving tokenizer to apply it with test data (submission)\n",
    "\n",
    "tokenizer.save_pretrained(\"best_transformer_model_tokenizer\")\n",
    "\n",
    "# to import it again:\n",
    "# from transformers import DistilBertTokenizer\n",
    "# tokenizer = DistilBertTokenizer.from_pretrained(\"best_transformer_model_tokenizer\")"
   ]
  },
  {
   "cell_type": "markdown",
   "id": "c9bf168a-686c-4f74-ba49-ab9e46f10580",
   "metadata": {},
   "source": [
    "#### Imports"
   ]
  },
  {
   "cell_type": "code",
   "execution_count": 2,
   "id": "f315e875-e844-408b-9f94-a7b543e8b599",
   "metadata": {},
   "outputs": [
    {
     "name": "stderr",
     "output_type": "stream",
     "text": [
      "C:\\Users\\Eros\\anaconda3\\envs\\tfmodel\\lib\\site-packages\\tqdm\\auto.py:21: TqdmWarning: IProgress not found. Please update jupyter and ipywidgets. See https://ipywidgets.readthedocs.io/en/stable/user_install.html\n",
      "  from .autonotebook import tqdm as notebook_tqdm\n"
     ]
    },
    {
     "name": "stdout",
     "output_type": "stream",
     "text": [
      "WARNING:tensorflow:From C:\\Users\\Eros\\anaconda3\\envs\\tfmodel\\lib\\site-packages\\tf_keras\\src\\losses.py:2976: The name tf.losses.sparse_softmax_cross_entropy is deprecated. Please use tf.compat.v1.losses.sparse_softmax_cross_entropy instead.\n",
      "\n"
     ]
    }
   ],
   "source": [
    "from transformers import TFDistilBertForSequenceClassification, TFBertForSequenceClassification\n",
    "from transformers import DistilBertTokenizerFast\n",
    "from transformers import create_optimizer\n",
    "import tensorflow as tf\n",
    "from tf_keras.optimizers import Adam\n",
    "from tensorflow.keras.losses import SparseCategoricalCrossentropy\n",
    "from tensorflow.keras.metrics import SparseCategoricalAccuracy"
   ]
  },
  {
   "cell_type": "markdown",
   "id": "ba230ad3-e1d3-489b-bc15-6472457ccec7",
   "metadata": {},
   "source": [
    "#### Model definition & compile"
   ]
  },
  {
   "cell_type": "code",
   "execution_count": 10,
   "id": "3c0c7a5b-4647-4597-be39-71d2e87c55ab",
   "metadata": {},
   "outputs": [
    {
     "name": "stdout",
     "output_type": "stream",
     "text": [
      "WARNING:tensorflow:From C:\\Users\\Eros\\anaconda3\\envs\\tfmodel\\lib\\site-packages\\tf_keras\\src\\backend.py:873: The name tf.get_default_graph is deprecated. Please use tf.compat.v1.get_default_graph instead.\n",
      "\n"
     ]
    },
    {
     "name": "stderr",
     "output_type": "stream",
     "text": [
      "Some weights of the PyTorch model were not used when initializing the TF 2.0 model TFDistilBertForSequenceClassification: ['vocab_layer_norm.bias', 'vocab_transform.bias', 'vocab_projector.bias', 'vocab_layer_norm.weight', 'vocab_transform.weight']\n",
      "- This IS expected if you are initializing TFDistilBertForSequenceClassification from a PyTorch model trained on another task or with another architecture (e.g. initializing a TFBertForSequenceClassification model from a BertForPreTraining model).\n",
      "- This IS NOT expected if you are initializing TFDistilBertForSequenceClassification from a PyTorch model that you expect to be exactly identical (e.g. initializing a TFBertForSequenceClassification model from a BertForSequenceClassification model).\n",
      "Some weights or buffers of the TF 2.0 model TFDistilBertForSequenceClassification were not initialized from the PyTorch model and are newly initialized: ['pre_classifier.weight', 'pre_classifier.bias', 'classifier.weight', 'classifier.bias']\n",
      "You should probably TRAIN this model on a down-stream task to be able to use it for predictions and inference.\n"
     ]
    }
   ],
   "source": [
    "# TFDistilBertForSequenceClassification is a pre-trained model from DistilBERT type, but adapted to text classification\n",
    "# DistilBERT is a softer/faster version from BERT, keeping most of the performance\n",
    "# It adds to BERT model a linear dense layer at the end that provide logits which are transformed to probabilities (with a sigmoid function)\n",
    "\n",
    "model = TFDistilBertForSequenceClassification.from_pretrained(\n",
    "    \"distilbert-base-uncased\",\n",
    "#model = TFBertForSequenceClassification.from_pretrained(\n",
    "#    \"bert-base-uncased\", # more powerful/heavy than distilbert-base-uncased, but slower & more parameters\n",
    "    num_labels=2,  # Binary clasification\n",
    "    problem_type=\"single_label_classification\"\n",
    ")\n",
    "\n",
    "# Freeze all layers (BERT backbone) except last one -> usefull when small dataset\n",
    "#for layer in model.layers:\n",
    "#    layer.trainable = False\n",
    "#model.classifier.trainable = True  # only classification layer\n",
    "\n",
    "# eficient/common optimizer used for NLP with transformers, with a standard value of learning_rate; it adjusts model weights\n",
    "optimizer = Adam(learning_rate=1e-5) # decreasing e_rate \n",
    "loss = tf.keras.losses.SparseCategoricalCrossentropy(from_logits=True)\n",
    "metrics = ['accuracy'] # to value performance\n",
    "\n",
    "model.compile(optimizer=optimizer, loss=loss, metrics=metrics)\n",
    "# an error is got when loss=model.compute_loss because it's an internal function from Hugging Face model (to use it with own class \"Trainer\"), it doesn't\n",
    "# fit ok with model.fit() from Keras (from TensorFlow), so when model.fit() tried to calculate loss with that function, it didn't find labels ok or it\n",
    "# process them wrongly... Soooo, we use this explicit loss function \"SparseCategoricalCrossentropy\", compatible with Keras, suitable for multilabel\n",
    "# classification with integers labels (0/1 this case)"
   ]
  },
  {
   "cell_type": "markdown",
   "id": "92e2e8b3-74c7-43af-85df-e6714324d200",
   "metadata": {},
   "source": [
    "#### Prepare data"
   ]
  },
  {
   "cell_type": "code",
   "execution_count": 8,
   "id": "10242213-e596-44de-9a71-7af3528d7c4a",
   "metadata": {},
   "outputs": [],
   "source": [
    "from sklearn.model_selection import train_test_split\n",
    "\n",
    "# split train/test: divide input_ids, attention_mask and labels\n",
    "train_inputs, val_inputs, train_masks, val_masks, train_labels, val_labels = train_test_split(\n",
    "    input_ids_np,\n",
    "    attention_mask_np,\n",
    "    labels,\n",
    "    test_size=0.2,\n",
    "    random_state=42\n",
    ")\n",
    "\n",
    "# prepare data for training with transformer model, packaging as a tf.data.Dataset, both train and test parts\n",
    "# it contains a tuple that consist of a dictionary with \"input_ids\" (text tokens array) and \"attention mask\" (marks if token is valid(invalid),\n",
    "# and the label of this text/tweet... f.e.:\n",
    "'''\n",
    "(\n",
    "  {\n",
    "    'input_ids': [101, 2256, 15046, ..., 0, 0, 0],\n",
    "    'attention_mask': [1, 1, 1, ..., 0, 0, 0]\n",
    "  },\n",
    "  1  # or 0\n",
    ")\n",
    "'''\n",
    "\n",
    "# convert labels to int32 to be suitable to model\n",
    "train_labels = train_labels.astype(\"int32\")\n",
    "val_labels = val_labels.astype(\"int32\")\n",
    "\n",
    "# training dataset\n",
    "train_dataset = tf.data.Dataset.from_tensor_slices(\n",
    "    {\n",
    "        'input_ids': train_inputs,\n",
    "        'attention_mask': train_masks,\n",
    "        'labels': train_labels\n",
    "    }    \n",
    ").shuffle(len(train_labels)).batch(16)\n",
    "\n",
    "# validation dataset \n",
    "val_dataset = tf.data.Dataset.from_tensor_slices(\n",
    "    {\n",
    "        'input_ids': val_inputs,\n",
    "        'attention_mask': val_masks,\n",
    "        'labels': val_labels\n",
    "    }\n",
    ").batch(16)"
   ]
  },
  {
   "cell_type": "markdown",
   "id": "d5dcc748-2539-40fb-93be-f4ac05dc17ca",
   "metadata": {},
   "source": [
    "#### Training"
   ]
  },
  {
   "cell_type": "code",
   "execution_count": 11,
   "id": "8a424d88-958f-406e-b7c2-dafd5b4c4ba0",
   "metadata": {
    "scrolled": true
   },
   "outputs": [
    {
     "name": "stdout",
     "output_type": "stream",
     "text": [
      "Epoch 1/3\n",
      "WARNING:tensorflow:From C:\\Users\\Eros\\anaconda3\\envs\\tfmodel\\lib\\site-packages\\tf_keras\\src\\utils\\tf_utils.py:492: The name tf.ragged.RaggedTensorValue is deprecated. Please use tf.compat.v1.ragged.RaggedTensorValue instead.\n",
      "\n",
      "WARNING:tensorflow:From C:\\Users\\Eros\\anaconda3\\envs\\tfmodel\\lib\\site-packages\\tf_keras\\src\\engine\\base_layer_utils.py:384: The name tf.executing_eagerly_outside_functions is deprecated. Please use tf.compat.v1.executing_eagerly_outside_functions instead.\n",
      "\n",
      "381/381 [==============================] - 520s 1s/step - loss: 0.4576 - accuracy: 0.8016 - val_loss: 0.4096 - val_accuracy: 0.8286\n",
      "Epoch 2/3\n",
      "381/381 [==============================] - 502s 1s/step - loss: 0.3469 - accuracy: 0.8619 - val_loss: 0.4102 - val_accuracy: 0.8339\n",
      "Epoch 3/3\n",
      "381/381 [==============================] - 502s 1s/step - loss: 0.2828 - accuracy: 0.8936 - val_loss: 0.4186 - val_accuracy: 0.8234\n"
     ]
    },
    {
     "data": {
      "image/png": "[encoded data removed]",
      "text/plain": [
       "<Figure size 640x480 with 1 Axes>"
      ]
     },
     "metadata": {},
     "output_type": "display_data"
    }
   ],
   "source": [
    "history = model.fit(\n",
    "    train_dataset,\n",
    "    validation_data=val_dataset,\n",
    "    epochs=3,\n",
    "    verbose=1 # show progress bar and metrics\n",
    ")\n",
    "\n",
    "# Plot\n",
    "import matplotlib.pyplot as plt\n",
    "\n",
    "plt.plot(history.history['accuracy'], label='Train Acc')\n",
    "plt.plot(history.history['val_accuracy'], label='Val Acc')\n",
    "plt.legend()\n",
    "plt.grid()\n",
    "plt.show()"
   ]
  },
  {
   "cell_type": "code",
   "execution_count": 41,
   "id": "95db9096-5f36-4dc1-81ae-790831d128f8",
   "metadata": {},
   "outputs": [
    {
     "data": {
      "image/png": "[encoded data removed]",
      "text/plain": [
       "<Figure size 1000x500 with 1 Axes>"
      ]
     },
     "metadata": {},
     "output_type": "display_data"
    }
   ],
   "source": [
    "# Create a list to save results\n",
    "#results_Transformers = [] # comment after first append\n",
    "\n",
    "# Evaluate model with test data after training it:\n",
    "loss, accuracy = model.evaluate(val_dataset)\n",
    "\n",
    "# Save results\n",
    "results_Transformers.append({\n",
    "    \"test_accuracy\": accuracy,\n",
    "    \"test_loss\": loss,\n",
    "    \"modelo\": \"Step 1: e_rate(5e-5->1e-5)\" # e_rate(5e-5)_batch(16)_epochs(3)_arq(distilbert-base-uncased)   \n",
    "})\n",
    "\n",
    "# From list to dataframe\n",
    "df_results_Transformers = pd.DataFrame(results_Transformers)\n",
    "\n",
    "# Plot\n",
    "import matplotlib.pyplot as plt\n",
    "plt.figure(figsize=(10, 5))\n",
    "plt.plot(df_results_Transformers[\"test_accuracy\"], marker='o', label=\"Test Accuracy\")\n",
    "plt.plot(df_results_Transformers[\"test_loss\"], marker='x', label=\"Test Loss\")\n",
    "plt.xticks(range(len(df_results_Transformers)), df_results_Transformers[\"modelo\"], rotation=45)\n",
    "plt.legend()\n",
    "plt.grid()\n",
    "plt.tight_layout()\n",
    "plt.show()"
   ]
  },
  {
   "cell_type": "code",
   "execution_count": 12,
   "id": "d5e3462d-6d21-4c6b-b87d-5068a6171cf6",
   "metadata": {},
   "outputs": [],
   "source": [
    "# IMPORTANT: SAVE MODEL WITH BEST PERFORMANCE TO APPLY IT LATER (WITH TEST DATA)\n",
    "model.save_pretrained(\"best_transformer_model\") # run this when structure model is defined with best val_accuracy\n",
    "\n",
    "# to import it later:\n",
    "#from transformers import TFDistilBertForSequenceClassification\n",
    "#model = TFDistilBertForSequenceClassification.from_pretrained(\"best_transformer_model\")"
   ]
  },
  {
   "cell_type": "code",
   "execution_count": 103,
   "id": "760eaac4-dd0c-4288-bdd5-df24e3f53988",
   "metadata": {},
   "outputs": [
    {
     "name": "stdout",
     "output_type": "stream",
     "text": [
      "   test_accuracy  test_loss                                             modelo\n",
      "0       0.813526   0.499005  e_rate(5e-5)_batch(16)_epochs(3)_arq(distilber...\n",
      "1       0.823375   0.418623                         Step 1: e_rate(5e-5->1e-5)\n",
      "2       0.817466   0.521976                              Step 2: batch(16->32)\n",
      "3       0.812213   0.746268                               Step 3: epochs(3->5)\n",
      "4       0.820092   0.516525         Step 4: arq(distilbert->bert base-uncased)\n",
      "5       0.560735   0.668573  Step 5: arq(distilbert-base-uncased freezing l...\n"
     ]
    }
   ],
   "source": [
    "print(df_results_Transformers)\n",
    "# analysing results we decide to apply changes (to reduce overfitting) until step 1, when better test_accuracy is obtained\n",
    "\n",
    "df_results_Transformers.to_csv(\"model_results_transformers.csv\", index=False) # export to csv\n",
    "upload_to_rds(df_results_Transformers, \"model_results_transformers\") # upload to rds"
   ]
  },
  {
   "cell_type": "markdown",
   "id": "f221193f-4253-4bab-9f4b-dccfc4c6e436",
   "metadata": {},
   "source": [
    "#### Confusion Matrix & Classification Report from Choosen/Best Model"
   ]
  },
  {
   "cell_type": "code",
   "execution_count": 5,
   "id": "08a111a2-ab7b-40b4-a563-8625a4daf2d8",
   "metadata": {},
   "outputs": [],
   "source": [
    "# PREVIOUS REPEATED CODE\n",
    "# we have to re-create/re-define needed data (not saved at memory) to apply choosen/best model\n",
    "# after importing data from database at RDS (AWS), we have to apply same saved tokenizer & model (creating val_dataset that was not saved in memory)\n",
    "\n",
    "# import saved tokenizer (same used to obtained choosen/best model)\n",
    "from transformers import DistilBertTokenizer\n",
    "tokenizer = DistilBertTokenizer.from_pretrained(\"best_transformer_model_tokenizer\")\n",
    "\n",
    "# apply tokenizer to imported original data\n",
    "import numpy as np\n",
    "encodings = tokenizer(df[\"text_lemmatized\"].tolist(), truncation=True, padding=True, max_length=128, return_tensors=\"tf\")\n",
    "input_ids_np = encodings['input_ids'].numpy() # transform tensors to numpy_arrays because train/test_split will need that format/type\n",
    "attention_mask_np = encodings['attention_mask'].numpy() # transform tensors to numpy_arrays because train/test_split will need that format/type\n",
    "labels = np.array(df[\"target\"]) # prepare labels as numpy array or tensor\n",
    "\n",
    "# split train/test: divide input_ids, attention_mask and labels\n",
    "from sklearn.model_selection import train_test_split\n",
    "train_inputs, val_inputs, train_masks, val_masks, train_labels, val_labels = train_test_split(\n",
    "    input_ids_np,\n",
    "    attention_mask_np,\n",
    "    labels,\n",
    "    test_size=0.2,\n",
    "    random_state=42\n",
    ")\n",
    "\n",
    "val_labels = val_labels.astype(\"int32\") # convert labels to int32 to be suitable to model\n",
    "val_dataset = tf.data.Dataset.from_tensor_slices({'input_ids': val_inputs, 'attention_mask': val_masks, 'labels': val_labels}).batch(16) # validation dataset"
   ]
  },
  {
   "cell_type": "code",
   "execution_count": 104,
   "id": "8560a8de-35e1-4ef6-a74f-25a956c7fe53",
   "metadata": {},
   "outputs": [
    {
     "name": "stderr",
     "output_type": "stream",
     "text": [
      "Some layers from the model checkpoint at best_transformer_model were not used when initializing TFDistilBertForSequenceClassification: ['dropout_19']\n",
      "- This IS expected if you are initializing TFDistilBertForSequenceClassification from the checkpoint of a model trained on another task or with another architecture (e.g. initializing a BertForSequenceClassification model from a BertForPreTraining model).\n",
      "- This IS NOT expected if you are initializing TFDistilBertForSequenceClassification from the checkpoint of a model that you expect to be exactly identical (initializing a BertForSequenceClassification model from a BertForSequenceClassification model).\n",
      "Some layers of TFDistilBertForSequenceClassification were not initialized from the model checkpoint at best_transformer_model and are newly initialized: ['dropout_119']\n",
      "You should probably TRAIN this model on a down-stream task to be able to use it for predictions and inference.\n"
     ]
    },
    {
     "name": "stdout",
     "output_type": "stream",
     "text": [
      "96/96 [==============================] - 27s 269ms/step\n",
      "Confusion Matrix:\n",
      " [[753 101]\n",
      " [168 501]]\n",
      "\n",
      "Classification Report:\n",
      " {'0': {'precision': 0.8175895765472313, 'recall': 0.8817330210772834, 'f1-score': 0.8484507042253521, 'support': 854}, '1': {'precision': 0.8322259136212624, 'recall': 0.7488789237668162, 'f1-score': 0.7883556254917388, 'support': 669}, 'accuracy': 0.8233749179251477, 'macro avg': {'precision': 0.8249077450842468, 'recall': 0.8153059724220497, 'f1-score': 0.8184031648585455, 'support': 1523}, 'weighted avg': {'precision': 0.8240188014339856, 'recall': 0.8233749179251477, 'f1-score': 0.8220530629431543, 'support': 1523}}\n"
     ]
    }
   ],
   "source": [
    "# NEW CODE\n",
    "\n",
    "# 1 - Import saved best model\n",
    "from transformers import TFDistilBertForSequenceClassification\n",
    "model = TFDistilBertForSequenceClassification.from_pretrained(\"best_transformer_model\")\n",
    "\n",
    "# 2 - Get predictions on the validation dataset\n",
    "pred_logits = model.predict(val_dataset) # get predictions in logits shape\n",
    "pred_classes = np.argmax(pred_logits.logits, axis=1) # convert logits on classes (0 or 1)\n",
    "\n",
    "# 3 - Real labels -> we got them at val_labels\n",
    "\n",
    "# 4 - New evaluation metrics & export\n",
    "from sklearn.metrics import classification_report, confusion_matrix\n",
    "\n",
    "cm = confusion_matrix(val_labels, pred_classes) # confusion matrix\n",
    "print(\"Confusion Matrix:\\n\", cm)\n",
    "cm_df = pd.DataFrame(cm, columns=[\"Pred_0\", \"Pred_1\"])\n",
    "cm_df[\"actual_class\"] = [\"class 0 - no disaster\", \"class 1 - disaster\"]\n",
    "cm_df.to_csv(\"confusion_matrix__transformers_model.csv\", index=True)\n",
    "\n",
    "report_dict = classification_report(val_labels, pred_classes, digits=4, output_dict=True) # complete report\n",
    "print(\"\\nClassification Report:\\n\", report_dict)\n",
    "report_df = pd.DataFrame(report_dict).transpose()\n",
    "report_df.to_csv(\"classification_report__transformers_model.csv\", index=True)\n",
    "\n",
    "# 5 - upload to RDS\n",
    "upload_to_rds(cm_df, \"confusion_matrix__transformers_model\")\n",
    "upload_to_rds(report_df, \"classification_report__transformers_model\")"
   ]
  },
  {
   "cell_type": "markdown",
   "id": "af953613-3ae7-4b2d-b42e-6946cf58121c",
   "metadata": {},
   "source": [
    "### SUBMISSION"
   ]
  },
  {
   "cell_type": "code",
   "execution_count": 115,
   "id": "f5170b22-bcae-4d62-8c83-427b31d7c51a",
   "metadata": {},
   "outputs": [
    {
     "name": "stderr",
     "output_type": "stream",
     "text": [
      "Some layers from the model checkpoint at best_transformer_model were not used when initializing TFDistilBertForSequenceClassification: ['dropout_19']\n",
      "- This IS expected if you are initializing TFDistilBertForSequenceClassification from the checkpoint of a model trained on another task or with another architecture (e.g. initializing a BertForSequenceClassification model from a BertForPreTraining model).\n",
      "- This IS NOT expected if you are initializing TFDistilBertForSequenceClassification from the checkpoint of a model that you expect to be exactly identical (initializing a BertForSequenceClassification model from a BertForSequenceClassification model).\n",
      "Some layers of TFDistilBertForSequenceClassification were not initialized from the model checkpoint at best_transformer_model and are newly initialized: ['dropout_159']\n",
      "You should probably TRAIN this model on a down-stream task to be able to use it for predictions and inference.\n"
     ]
    },
    {
     "name": "stdout",
     "output_type": "stream",
     "text": [
      "102/102 [==============================] - 70s 676ms/step\n"
     ]
    },
    {
     "data": {
      "text/plain": [
       "array([1, 1, 1, ..., 1, 1, 1], dtype=int64)"
      ]
     },
     "execution_count": 115,
     "metadata": {},
     "output_type": "execute_result"
    }
   ],
   "source": [
    "# we apply best model (with transformers) to tweets from test.csv to generate submission that will be uploaded to Kaggle\n",
    "\n",
    "# 1 - download test tweets to predict\n",
    "df_test = pd.read_sql(\"SELECT * FROM tweets_test_clean\", engine)\n",
    "\n",
    "# 2 - apply saved tokenizer\n",
    "from transformers import DistilBertTokenizer\n",
    "tokenizer = DistilBertTokenizer.from_pretrained(\"best_transformer_model_tokenizer\")\n",
    "encodings_test = tokenizer(df_test[\"text_lemmatized\"].tolist(), truncation=True, padding=True, max_length=128, return_tensors=\"tf\")\n",
    "input_ids_test = encodings_test[\"input_ids\"]\n",
    "attention_mask_test = encodings_test[\"attention_mask\"]\n",
    "\n",
    "# 3 - load saved model\n",
    "from transformers import TFDistilBertForSequenceClassification\n",
    "model = TFDistilBertForSequenceClassification.from_pretrained(\"best_transformer_model\")\n",
    "\n",
    "# 4 - create predictions\n",
    "import numpy as np\n",
    "outputs = model.predict({\"input_ids\": input_ids_test, \"attention_mask\": attention_mask_test}) # get predictions from model\n",
    "y_pred = np.argmax(outputs.logits, axis=1) # logits to labels 0/1\n",
    "\n",
    "# 5 - save predictions\n",
    "submission_df = pd.DataFrame({\"id\": df_test[\"id\"], \"target\": y_pred})\n",
    "submission_df.to_csv(\"submission.csv\", index=False)\n",
    "upload_to_rds(submission_df, \"submission_to_kaggle\")"
   ]
  },
  {
   "cell_type": "markdown",
   "id": "352d1760-7399-4280-8b76-c7c03ff8f6d5",
   "metadata": {},
   "source": [
    "#### Check tables at database in RDS instance (AWS)"
   ]
  },
  {
   "cell_type": "code",
   "execution_count": 29,
   "id": "75c3578e-b8e7-4274-8c5b-e596403d90ac",
   "metadata": {},
   "outputs": [
    {
     "name": "stdout",
     "output_type": "stream",
     "text": [
      "['models_results_output_Prep', 'tweets_train', 'tweets_test', 'tweets_submission', 'confusion_matrix__nn_model', 'confusion_matrix__transformers_model', 'classification_report__transformers_model', 'tweets_train_clean', 'tweets_test_clean', 'classification_reports_output_Prep', 'model_results_nn', 'model_results_transformers', 'confusion_matrix_output_Prep', 'submission_to_kaggle', 'classification_report__nn_model']\n"
     ]
    },
    {
     "data": {
      "text/html": [
       "<div>\n",
       "<style scoped>\n",
       "    .dataframe tbody tr th:only-of-type {\n",
       "        vertical-align: middle;\n",
       "    }\n",
       "\n",
       "    .dataframe tbody tr th {\n",
       "        vertical-align: top;\n",
       "    }\n",
       "\n",
       "    .dataframe thead th {\n",
       "        text-align: right;\n",
       "    }\n",
       "</style>\n",
       "<table border=\"1\" class=\"dataframe\">\n",
       "  <thead>\n",
       "    <tr style=\"text-align: right;\">\n",
       "      <th></th>\n",
       "      <th>Unnamed: 0</th>\n",
       "      <th>precision</th>\n",
       "      <th>recall</th>\n",
       "      <th>f1-score</th>\n",
       "      <th>support</th>\n",
       "    </tr>\n",
       "  </thead>\n",
       "  <tbody>\n",
       "    <tr>\n",
       "      <th>0</th>\n",
       "      <td>0</td>\n",
       "      <td>0.817590</td>\n",
       "      <td>0.881733</td>\n",
       "      <td>0.848451</td>\n",
       "      <td>854.000000</td>\n",
       "    </tr>\n",
       "    <tr>\n",
       "      <th>1</th>\n",
       "      <td>1</td>\n",
       "      <td>0.832226</td>\n",
       "      <td>0.748879</td>\n",
       "      <td>0.788356</td>\n",
       "      <td>669.000000</td>\n",
       "    </tr>\n",
       "    <tr>\n",
       "      <th>2</th>\n",
       "      <td>accuracy</td>\n",
       "      <td>0.823375</td>\n",
       "      <td>0.823375</td>\n",
       "      <td>0.823375</td>\n",
       "      <td>0.823375</td>\n",
       "    </tr>\n",
       "    <tr>\n",
       "      <th>3</th>\n",
       "      <td>macro avg</td>\n",
       "      <td>0.824908</td>\n",
       "      <td>0.815306</td>\n",
       "      <td>0.818403</td>\n",
       "      <td>1523.000000</td>\n",
       "    </tr>\n",
       "    <tr>\n",
       "      <th>4</th>\n",
       "      <td>weighted avg</td>\n",
       "      <td>0.824019</td>\n",
       "      <td>0.823375</td>\n",
       "      <td>0.822053</td>\n",
       "      <td>1523.000000</td>\n",
       "    </tr>\n",
       "  </tbody>\n",
       "</table>\n",
       "</div>"
      ],
      "text/plain": [
       "     Unnamed: 0  precision    recall  f1-score      support\n",
       "0             0   0.817590  0.881733  0.848451   854.000000\n",
       "1             1   0.832226  0.748879  0.788356   669.000000\n",
       "2      accuracy   0.823375  0.823375  0.823375     0.823375\n",
       "3     macro avg   0.824908  0.815306  0.818403  1523.000000\n",
       "4  weighted avg   0.824019  0.823375  0.822053  1523.000000"
      ]
     },
     "execution_count": 29,
     "metadata": {},
     "output_type": "execute_result"
    }
   ],
   "source": [
    "# check table has been created and its content\n",
    "from sqlalchemy import inspect\n",
    "inspector = inspect(engine) # Check if new table is defined at database in RDS instance\n",
    "print(inspector.get_table_names())\n",
    "df_check_test = pd.read_sql('SELECT * FROM classification_report__transformers_model LIMIT 10', con=engine)\n",
    "df_check_test.head()"
   ]
  },
  {
   "cell_type": "code",
   "execution_count": null,
   "id": "23b91e06-af1e-4ea5-84c9-2c5e0d6d3875",
   "metadata": {},
   "outputs": [],
   "source": []
  }
 ],
 "metadata": {
  "kernelspec": {
   "display_name": "Python (tfmodel)",
   "language": "python",
   "name": "tfmodel"
  },
  "language_info": {
   "codemirror_mode": {
    "name": "ipython",
    "version": 3
   },
   "file_extension": ".py",
   "mimetype": "text/x-python",
   "name": "python",
   "nbconvert_exporter": "python",
   "pygments_lexer": "ipython3",
   "version": "3.10.17"
  }
 },
 "nbformat": 4,
 "nbformat_minor": 5
}
